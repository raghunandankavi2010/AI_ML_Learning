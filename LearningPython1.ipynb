{
 "cells": [
  {
   "cell_type": "code",
   "execution_count": 8,
   "id": "99e5a8b0",
   "metadata": {},
   "outputs": [
    {
     "name": "stdout",
     "output_type": "stream",
     "text": [
      "My name is Raghunandan\n"
     ]
    }
   ],
   "source": [
    "name = \"Raghunandan\"\n",
    "print(f\"My name is {name}\")"
   ]
  },
  {
   "cell_type": "code",
   "execution_count": 9,
   "id": "f1e9bd43",
   "metadata": {},
   "outputs": [
    {
     "name": "stdout",
     "output_type": "stream",
     "text": [
      "true\n"
     ]
    }
   ],
   "source": [
    "print('true')"
   ]
  },
  {
   "cell_type": "code",
   "execution_count": 18,
   "id": "7c4ca627",
   "metadata": {},
   "outputs": [
    {
     "name": "stdout",
     "output_type": "stream",
     "text": [
      "[43, 23, 12, 4]\n"
     ]
    }
   ],
   "source": [
    "l=[12,23,4]\n",
    "min(l)\n",
    "max(l)\n",
    "len(l)\n",
    "sum(l)\n",
    "l.insert(2,43)\n",
    "l.sort(reverse = True)\n",
    "print(l)\n"
   ]
  },
  {
   "cell_type": "code",
   "execution_count": 5,
   "id": "d471d52f",
   "metadata": {},
   "outputs": [
    {
     "name": "stdout",
     "output_type": "stream",
     "text": [
      "hello world\n"
     ]
    }
   ],
   "source": [
    "print(\"hello world\")"
   ]
  },
  {
   "cell_type": "code",
   "execution_count": 3,
   "id": "2cf4cbfc",
   "metadata": {},
   "outputs": [
    {
     "name": "stdout",
     "output_type": "stream",
     "text": [
      "My Name is Raghunandan\n"
     ]
    }
   ],
   "source": [
    "name = 'Raghunandan'\n",
    "print(\"My Name is {}\".format(name))"
   ]
  },
  {
   "cell_type": "code",
   "execution_count": 19,
   "id": "b97b30f6",
   "metadata": {},
   "outputs": [
    {
     "name": "stdout",
     "output_type": "stream",
     "text": [
      "[1, 4, 9, 16, 25]\n"
     ]
    }
   ],
   "source": [
    "nums1 = [1, 2, 3, 4, 5]\n",
    "sq = list(map(lambda a: a * a, nums1))\n",
    "print(sq)"
   ]
  },
  {
   "cell_type": "code",
   "execution_count": 21,
   "id": "64455e48",
   "metadata": {},
   "outputs": [
    {
     "name": "stdout",
     "output_type": "stream",
     "text": [
      "24\n"
     ]
    }
   ],
   "source": [
    "from functools import reduce\n",
    "\n",
    "lst = [1, 2, 3, 4]\n",
    "product = reduce((lambda x, y: x * y), lst)\n",
    "print(product)"
   ]
  },
  {
   "cell_type": "code",
   "execution_count": 25,
   "id": "5ea1668e",
   "metadata": {},
   "outputs": [
    {
     "name": "stdout",
     "output_type": "stream",
     "text": [
      "{1: 'Jill', 2: 'Jack', 3: 'Jim', 4: 'Jane'}\n",
      "{2: 'Jack', 4: 'Jane', 1: 'Jill', 3: 'Jim'}\n"
     ]
    }
   ],
   "source": [
    "people = {3: \"Jim\", 2: \"Jack\", 4: \"Jane\", 1: \"Jill\"}\n",
    "new_dic = dict(sorted(people.items()))\n",
    "print(new_dic)\n",
    "###sort by value####\n",
    "sorted_by_value = dict(sorted(people.items(), key=lambda item: item[1]))\n",
    "print(sorted_by_value)"
   ]
  },
  {
   "cell_type": "code",
   "execution_count": null,
   "id": "0831edb4",
   "metadata": {},
   "outputs": [],
   "source": []
  }
 ],
 "metadata": {
  "kernelspec": {
   "display_name": "Python 3 (ipykernel)",
   "language": "python",
   "name": "python3"
  },
  "language_info": {
   "codemirror_mode": {
    "name": "ipython",
    "version": 3
   },
   "file_extension": ".py",
   "mimetype": "text/x-python",
   "name": "python",
   "nbconvert_exporter": "python",
   "pygments_lexer": "ipython3",
   "version": "3.10.9"
  }
 },
 "nbformat": 4,
 "nbformat_minor": 5
}
