{
 "cells": [
  {
   "cell_type": "code",
   "execution_count": 1,
   "id": "6849682a",
   "metadata": {},
   "outputs": [],
   "source": [
    "import numpy as np\n",
    "import pandas as pd\n"
   ]
  },
  {
   "cell_type": "code",
   "execution_count": 2,
   "id": "f78bd161",
   "metadata": {},
   "outputs": [],
   "source": [
    "census_df = pd.read_excel('census+data.xlsx')"
   ]
  },
  {
   "cell_type": "code",
   "execution_count": 3,
   "id": "e4579460",
   "metadata": {},
   "outputs": [
    {
     "data": {
      "text/html": [
       "<div>\n",
       "<style scoped>\n",
       "    .dataframe tbody tr th:only-of-type {\n",
       "        vertical-align: middle;\n",
       "    }\n",
       "\n",
       "    .dataframe tbody tr th {\n",
       "        vertical-align: top;\n",
       "    }\n",
       "\n",
       "    .dataframe thead th {\n",
       "        text-align: right;\n",
       "    }\n",
       "</style>\n",
       "<table border=\"1\" class=\"dataframe\">\n",
       "  <thead>\n",
       "    <tr style=\"text-align: right;\">\n",
       "      <th></th>\n",
       "      <th>Name</th>\n",
       "      <th>Scode</th>\n",
       "      <th>Dcode</th>\n",
       "      <th>Area Name</th>\n",
       "      <th>Rural Urban</th>\n",
       "      <th>Age group</th>\n",
       "      <th>Toatal Persons</th>\n",
       "      <th>Total Males</th>\n",
       "      <th>Total Females</th>\n",
       "      <th>Illiterate Persons</th>\n",
       "      <th>Illiterate Males</th>\n",
       "      <th>Illiterate Females</th>\n",
       "      <th>Literate Persons</th>\n",
       "      <th>Literate Males</th>\n",
       "      <th>Literate Females</th>\n",
       "    </tr>\n",
       "  </thead>\n",
       "  <tbody>\n",
       "    <tr>\n",
       "      <th>0</th>\n",
       "      <td>C2308</td>\n",
       "      <td>0</td>\n",
       "      <td>0</td>\n",
       "      <td>INDIA</td>\n",
       "      <td>Total</td>\n",
       "      <td>All ages</td>\n",
       "      <td>1210854977</td>\n",
       "      <td>623270258</td>\n",
       "      <td>587584719</td>\n",
       "      <td>447216165</td>\n",
       "      <td>188506636</td>\n",
       "      <td>258709529</td>\n",
       "      <td>763638812</td>\n",
       "      <td>434763622</td>\n",
       "      <td>328875190</td>\n",
       "    </tr>\n",
       "    <tr>\n",
       "      <th>1</th>\n",
       "      <td>C2308</td>\n",
       "      <td>0</td>\n",
       "      <td>0</td>\n",
       "      <td>INDIA</td>\n",
       "      <td>Total</td>\n",
       "      <td>0-6</td>\n",
       "      <td>164515253</td>\n",
       "      <td>85752254</td>\n",
       "      <td>78762999</td>\n",
       "      <td>164515253</td>\n",
       "      <td>85752254</td>\n",
       "      <td>78762999</td>\n",
       "      <td>0</td>\n",
       "      <td>0</td>\n",
       "      <td>0</td>\n",
       "    </tr>\n",
       "    <tr>\n",
       "      <th>2</th>\n",
       "      <td>C2308</td>\n",
       "      <td>0</td>\n",
       "      <td>0</td>\n",
       "      <td>INDIA</td>\n",
       "      <td>Total</td>\n",
       "      <td>7</td>\n",
       "      <td>24826640</td>\n",
       "      <td>12903364</td>\n",
       "      <td>11923276</td>\n",
       "      <td>6748214</td>\n",
       "      <td>3388683</td>\n",
       "      <td>3359531</td>\n",
       "      <td>18078426</td>\n",
       "      <td>9514681</td>\n",
       "      <td>8563745</td>\n",
       "    </tr>\n",
       "    <tr>\n",
       "      <th>3</th>\n",
       "      <td>C2308</td>\n",
       "      <td>0</td>\n",
       "      <td>0</td>\n",
       "      <td>INDIA</td>\n",
       "      <td>Total</td>\n",
       "      <td>8</td>\n",
       "      <td>26968373</td>\n",
       "      <td>14061937</td>\n",
       "      <td>12906436</td>\n",
       "      <td>4131414</td>\n",
       "      <td>2013742</td>\n",
       "      <td>2117672</td>\n",
       "      <td>22836959</td>\n",
       "      <td>12048195</td>\n",
       "      <td>10788764</td>\n",
       "    </tr>\n",
       "    <tr>\n",
       "      <th>4</th>\n",
       "      <td>C2308</td>\n",
       "      <td>0</td>\n",
       "      <td>0</td>\n",
       "      <td>INDIA</td>\n",
       "      <td>Total</td>\n",
       "      <td>9</td>\n",
       "      <td>23424638</td>\n",
       "      <td>12214985</td>\n",
       "      <td>11209653</td>\n",
       "      <td>2491904</td>\n",
       "      <td>1198339</td>\n",
       "      <td>1293565</td>\n",
       "      <td>20932734</td>\n",
       "      <td>11016646</td>\n",
       "      <td>9916088</td>\n",
       "    </tr>\n",
       "  </tbody>\n",
       "</table>\n",
       "</div>"
      ],
      "text/plain": [
       "    Name  Scode  Dcode Area Name Rural Urban Age group  Toatal Persons  \\\n",
       "0  C2308      0      0     INDIA       Total  All ages      1210854977   \n",
       "1  C2308      0      0     INDIA       Total       0-6       164515253   \n",
       "2  C2308      0      0     INDIA       Total         7        24826640   \n",
       "3  C2308      0      0     INDIA       Total         8        26968373   \n",
       "4  C2308      0      0     INDIA       Total         9        23424638   \n",
       "\n",
       "   Total Males  Total Females  Illiterate Persons  Illiterate Males  \\\n",
       "0    623270258      587584719           447216165         188506636   \n",
       "1     85752254       78762999           164515253          85752254   \n",
       "2     12903364       11923276             6748214           3388683   \n",
       "3     14061937       12906436             4131414           2013742   \n",
       "4     12214985       11209653             2491904           1198339   \n",
       "\n",
       "   Illiterate Females  Literate Persons  Literate Males  Literate Females  \n",
       "0           258709529         763638812       434763622         328875190  \n",
       "1            78762999                 0               0                 0  \n",
       "2             3359531          18078426         9514681           8563745  \n",
       "3             2117672          22836959        12048195          10788764  \n",
       "4             1293565          20932734        11016646           9916088  "
      ]
     },
     "execution_count": 3,
     "metadata": {},
     "output_type": "execute_result"
    }
   ],
   "source": [
    "census_df.head()"
   ]
  },
  {
   "cell_type": "code",
   "execution_count": 4,
   "id": "f8bc4f60",
   "metadata": {},
   "outputs": [
    {
     "data": {
      "text/plain": [
       "1210854977"
      ]
     },
     "execution_count": 4,
     "metadata": {},
     "output_type": "execute_result"
    }
   ],
   "source": [
    "sum_total_person = census_df.loc[census_df['Age group'] == \"All ages\", 'Toatal Persons'][0]\n",
    "sum_total_person"
   ]
  },
  {
   "cell_type": "code",
   "execution_count": 5,
   "id": "9191b69e",
   "metadata": {},
   "outputs": [
    {
     "data": {
      "text/plain": [
       "447216165"
      ]
     },
     "execution_count": 5,
     "metadata": {},
     "output_type": "execute_result"
    }
   ],
   "source": [
    "illiterate_persons_all_ages =  census_df.loc[census_df['Age group'] == \"All ages\", 'Illiterate Persons'][0]\n",
    "illiterate_persons_all_ages"
   ]
  },
  {
   "cell_type": "code",
   "execution_count": 6,
   "id": "84804d34",
   "metadata": {},
   "outputs": [
    {
     "data": {
      "text/plain": [
       "763638812"
      ]
     },
     "execution_count": 6,
     "metadata": {},
     "output_type": "execute_result"
    }
   ],
   "source": [
    "literate_persons_all_ages =  census_df.loc[census_df['Age group'] == \"All ages\", 'Literate Persons'][0]\n",
    "literate_persons_all_ages"
   ]
  },
  {
   "cell_type": "code",
   "execution_count": 7,
   "id": "c02cd0eb",
   "metadata": {},
   "outputs": [
    {
     "data": {
      "text/plain": [
       "164515253"
      ]
     },
     "execution_count": 7,
     "metadata": {},
     "output_type": "execute_result"
    }
   ],
   "source": [
    "census_df['Age group'].dtype\n",
    "sum_0_6 = census_df.loc[census_df['Age group'] == \"0-6\", 'Toatal Persons'].iloc[0]\n",
    "sum_0_6"
   ]
  },
  {
   "cell_type": "code",
   "execution_count": 8,
   "id": "a7997d4f",
   "metadata": {},
   "outputs": [
    {
     "data": {
      "text/plain": [
       "1046339724"
      ]
     },
     "execution_count": 8,
     "metadata": {},
     "output_type": "execute_result"
    }
   ],
   "source": [
    "sum_above_7 = sum_total_person - sum_0_6\n",
    "sum_above_7"
   ]
  },
  {
   "cell_type": "code",
   "execution_count": 9,
   "id": "2cd12806",
   "metadata": {},
   "outputs": [
    {
     "data": {
      "text/plain": [
       "164515253"
      ]
     },
     "execution_count": 9,
     "metadata": {},
     "output_type": "execute_result"
    }
   ],
   "source": [
    "illeterate_0_6 = census_df.loc[census_df['Age group'] == \"0-6\", 'Toatal Persons'].iloc[0]\n",
    "illeterate_0_6"
   ]
  },
  {
   "cell_type": "code",
   "execution_count": 10,
   "id": "3b867c1a",
   "metadata": {},
   "outputs": [
    {
     "data": {
      "text/plain": [
       "763638812"
      ]
     },
     "execution_count": 10,
     "metadata": {},
     "output_type": "execute_result"
    }
   ],
   "source": [
    "# if you see the table 0-6 for literate person is 0. so the total is the total above age 7\n",
    "literate_above_7 = census_df['Literate Persons'][0]\n",
    "literate_above_7 "
   ]
  },
  {
   "cell_type": "code",
   "execution_count": 11,
   "id": "8f7924c5",
   "metadata": {},
   "outputs": [
    {
     "data": {
      "text/plain": [
       "0.7298191920695921"
      ]
     },
     "execution_count": 11,
     "metadata": {},
     "output_type": "execute_result"
    }
   ],
   "source": [
    "per =  literate_above_7 / sum_above_7\n",
    "per"
   ]
  },
  {
   "cell_type": "code",
   "execution_count": 16,
   "id": "6620a9ad",
   "metadata": {},
   "outputs": [
    {
     "data": {
      "text/plain": [
       "18679492"
      ]
     },
     "execution_count": 16,
     "metadata": {},
     "output_type": "execute_result"
    }
   ],
   "source": [
    "illiterate_20_24 =  census_df.loc[census_df['Age group'] == \"All ages\", 'Illiterate Persons'].iloc[0]\n",
    "illiterate_20_24"
   ]
  },
  {
   "cell_type": "code",
   "execution_count": 19,
   "id": "792814de",
   "metadata": {},
   "outputs": [
    {
     "data": {
      "text/plain": [
       "12212466"
      ]
     },
     "execution_count": 19,
     "metadata": {},
     "output_type": "execute_result"
    }
   ],
   "source": [
    "# Once you remove the unwanted rows from the data set, \n",
    "# take the ratio of the number of illiterate females to the number of total females, \n",
    "# i.e. 12212466/53839529 = 0.226\n",
    "illiterate_Females_20_24 =  census_df.loc[census_df['Age group'] == \"20-24\", 'Illiterate Females'].iloc[0]\n",
    "illiterate_Females_20_24"
   ]
  },
  {
   "cell_type": "code",
   "execution_count": 27,
   "id": "ceb92c0a",
   "metadata": {},
   "outputs": [
    {
     "data": {
      "text/plain": [
       "53839529"
      ]
     },
     "execution_count": 27,
     "metadata": {},
     "output_type": "execute_result"
    }
   ],
   "source": [
    "total_females_20_24 = census_df.loc[census_df['Age group'] == \"20-24\", 'Total Females'].iloc[0]\n",
    "total_females_20_24 "
   ]
  },
  {
   "cell_type": "code",
   "execution_count": 30,
   "id": "1325dadf",
   "metadata": {},
   "outputs": [
    {
     "data": {
      "text/plain": [
       "23"
      ]
     },
     "execution_count": 30,
     "metadata": {},
     "output_type": "execute_result"
    }
   ],
   "source": [
    "percent = illiterate_Females_20_24/total_females_20_24 * 100\n",
    "round(percent)"
   ]
  },
  {
   "cell_type": "markdown",
   "id": "9f2cf26c",
   "metadata": {},
   "source": [
    "Compare the literacy rates (i.e. the number of literates / total number of population) in each age group and choose the correct option.\n",
    "\n",
    "People in the old age group (above 55+) are more literate than other groups\n",
    "\n",
    "People in the young age group (below 30) are more literate than the old age group (above 55+)\n",
    "\n",
    "The literacy rate increases for each age bucket from 7 years till 80+"
   ]
  },
  {
   "cell_type": "code",
   "execution_count": 40,
   "id": "47f76c18",
   "metadata": {},
   "outputs": [
    {
     "data": {
      "text/plain": [
       "Age group\n",
       "7                 0.728187\n",
       "8                 0.846805\n",
       "9                 0.893620\n",
       "10                0.886931\n",
       "11                0.919628\n",
       "12                0.914212\n",
       "13                0.925436\n",
       "14                0.916828\n",
       "15                0.899613\n",
       "16                0.897834\n",
       "17                0.903926\n",
       "18                0.866659\n",
       "19                0.876376\n",
       "0-6               0.000000\n",
       "20-24             0.832357\n",
       "25-29             0.776811\n",
       "30-34             0.725384\n",
       "35-39             0.672740\n",
       "40-44             0.629934\n",
       "45-49             0.597586\n",
       "50-54             0.575657\n",
       "55-59             0.548305\n",
       "60-64             0.469265\n",
       "65-69             0.439440\n",
       "70-74             0.397745\n",
       "75-79             0.419313\n",
       "80+               0.389632\n",
       "Age not stated    0.645594\n",
       "All ages          0.630661\n",
       "dtype: float64"
      ]
     },
     "execution_count": 40,
     "metadata": {},
     "output_type": "execute_result"
    }
   ],
   "source": [
    "# The young age group (under 30) \n",
    "# shows a literacy rate higher than 70% whereas the old age group (above 55+) shows a literacy rate below 40%.\n",
    "def ratio(x):\n",
    "    return x['Literate Persons'].sum() / x['Toatal Persons'].sum()\n",
    "\n",
    "grouped_ratio = census_df.groupby(\"Age group\").apply(ratio)\n",
    "grouped_ratio[]\n",
    "def ratio(x):\n",
    "    return x['Literate Persons'].sum() / x['Toatal Persons'].sum()"
   ]
  },
  {
   "cell_type": "markdown",
   "id": "593855ec",
   "metadata": {},
   "source": [
    "Which state shows the highest female literacy rate?\n",
    "1. Madhya Pradesh\n",
    "2. Kerala\n",
    "3. Goa\n",
    "4. Rajasthan"
   ]
  },
  {
   "cell_type": "markdown",
   "id": "573c9d3d",
   "metadata": {},
   "source": [
    "Kerala is at the top of the list of female literacy rates across the states. The female literacy rate of this state was 0.83 in 2011."
   ]
  },
  {
   "cell_type": "code",
   "execution_count": 46,
   "id": "9cbe08fa",
   "metadata": {},
   "outputs": [
    {
     "data": {
      "text/plain": [
       "Area Name\n",
       "INDIA                                0.559707\n",
       "State - ANDAMAN & NICOBAR ISLANDS    0.730989\n",
       "State - ANDHRA PRADESH               0.529337\n",
       "State - ARUNACHAL PRADESH            0.486906\n",
       "State - ASSAM                        0.563950\n",
       "State - BIHAR                        0.419430\n",
       "State - CHANDIGARH                   0.716304\n",
       "State - CHHATTISGARH                 0.516982\n",
       "State - DADRA & NAGAR HAVELI         0.538243\n",
       "State - DAMAN & DIU                  0.686022\n",
       "State - GOA                          0.764054\n",
       "State - GUJARAT                      0.608616\n",
       "State - HARYANA                      0.573929\n",
       "State - HIMACHAL PRADESH             0.676125\n",
       "State - JAMMU & KASHMIR              0.474959\n",
       "State - JHARKHAND                    0.463671\n",
       "State - KARNATAKA                    0.602047\n",
       "State - KERALA                       0.830382\n",
       "State - LAKSHADWEEP                  0.782456\n",
       "State - MADHYA PRADESH               0.504843\n",
       "State - MAHARASHTRA                  0.670531\n",
       "State - MANIPUR                      0.612908\n",
       "State - MEGHALAYA                    0.590571\n",
       "State - MIZORAM                      0.755990\n",
       "State - NAGALAND                     0.648399\n",
       "State - NCT OF DELHI                 0.710574\n",
       "State - ODISHA                       0.561259\n",
       "State - PUDUCHERRY                   0.723797\n",
       "State - PUNJAB                       0.631194\n",
       "State - RAJASTHAN                    0.442061\n",
       "State - SIKKIM                       0.673664\n",
       "State - TAMIL NADU                   0.660862\n",
       "State - TRIPURA                      0.724304\n",
       "State - UTTAR PRADESH                0.484231\n",
       "State - UTTARAKHAND                  0.609727\n",
       "State - WEST BENGAL                  0.623371\n",
       "dtype: float64"
      ]
     },
     "execution_count": 46,
     "metadata": {},
     "output_type": "execute_result"
    }
   ],
   "source": [
    "def literate_female_sum(x):\n",
    "    return x['Literate Females'].sum() / x['Total Females'].sum()\n",
    "\n",
    "\n",
    "grouped_by_state = census_df.groupby(\"Area Name\").apply(literate_female_sum)\n",
    "grouped_by_state"
   ]
  },
  {
   "cell_type": "markdown",
   "id": "7df1ae30",
   "metadata": {},
   "source": [
    "Across all the states, which state shows the lowest literacy rate in 2011 (total population)?\n",
    "1. Madhya Pradesh\n",
    "2. Himachal Pradesh\n",
    "3. Bihar\n",
    "4. Rajasthan"
   ]
  },
  {
   "cell_type": "code",
   "execution_count": 48,
   "id": "90941e75",
   "metadata": {},
   "outputs": [
    {
     "data": {
      "text/plain": [
       "Area Name\n",
       "State - BIHAR                        0.504369\n",
       "State - ARUNACHAL PRADESH            0.553581\n",
       "State - JHARKHAND                    0.555596\n",
       "State - RAJASTHAN                    0.558368\n",
       "State - JAMMU & KASHMIR              0.563517\n",
       "State - UTTAR PRADESH                0.572525\n",
       "State - MADHYA PRADESH               0.590019\n",
       "State - ANDHRA PRADESH               0.597733\n",
       "State - MEGHALAYA                    0.601642\n",
       "State - CHHATTISGARH                 0.602067\n",
       "State - ASSAM                        0.614569\n",
       "INDIA                                0.630661\n",
       "State - ODISHA                       0.637120\n",
       "State - DADRA & NAGAR HAVELI         0.649474\n",
       "State - HARYANA                      0.654755\n",
       "State - KARNATAKA                    0.665310\n",
       "State - MANIPUR                      0.668282\n",
       "State - WEST BENGAL                  0.674199\n",
       "State - PUNJAB                       0.674293\n",
       "State - NAGALAND                     0.678510\n",
       "State - GUJARAT                      0.679907\n",
       "State - UTTARAKHAND                  0.682208\n",
       "State - TAMIL NADU                   0.718498\n",
       "State - MAHARASHTRA                  0.725738\n",
       "State - SIKKIM                       0.728740\n",
       "State - HIMACHAL PRADESH             0.734163\n",
       "State - NCT OF DELHI                 0.758745\n",
       "State - CHANDIGARH                   0.763123\n",
       "State - TRIPURA                      0.763431\n",
       "State - PUDUCHERRY                   0.767103\n",
       "State - MIZORAM                      0.773032\n",
       "State - ANDAMAN & NICOBAR ISLANDS    0.773241\n",
       "State - DAMAN & DIU                  0.774546\n",
       "State - GOA                          0.799075\n",
       "State - LAKSHADWEEP                  0.815116\n",
       "State - KERALA                       0.842237\n",
       "dtype: float64"
      ]
     },
     "execution_count": 48,
     "metadata": {},
     "output_type": "execute_result"
    }
   ],
   "source": [
    "def literate(x):\n",
    "    return x['Literate Persons'].sum() / x['Toatal Persons'].sum()\n",
    "\n",
    "\n",
    "grouped_by_state_literacy = census_df.groupby(\"Area Name\").apply(literate)\n",
    "grouped_by_state_literacy.sort_values()"
   ]
  },
  {
   "cell_type": "code",
   "execution_count": null,
   "id": "e6e1a634",
   "metadata": {},
   "outputs": [],
   "source": []
  }
 ],
 "metadata": {
  "kernelspec": {
   "display_name": "Python 3 (ipykernel)",
   "language": "python",
   "name": "python3"
  },
  "language_info": {
   "codemirror_mode": {
    "name": "ipython",
    "version": 3
   },
   "file_extension": ".py",
   "mimetype": "text/x-python",
   "name": "python",
   "nbconvert_exporter": "python",
   "pygments_lexer": "ipython3",
   "version": "3.10.9"
  }
 },
 "nbformat": 4,
 "nbformat_minor": 5
}
