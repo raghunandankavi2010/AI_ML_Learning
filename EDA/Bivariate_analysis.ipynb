{
 "cells": [
  {
   "cell_type": "code",
   "execution_count": 1,
   "id": "20e70f9f",
   "metadata": {},
   "outputs": [],
   "source": [
    "import numpy as np\n",
    "import pandas as pd"
   ]
  },
  {
   "cell_type": "code",
   "execution_count": 2,
   "id": "cbbea640",
   "metadata": {},
   "outputs": [],
   "source": [
    "df = pd.read_csv('EDA_GOLD_SILVER_prices.csv')"
   ]
  },
  {
   "cell_type": "code",
   "execution_count": 3,
   "id": "a0a8c3a5",
   "metadata": {},
   "outputs": [
    {
     "data": {
      "text/html": [
       "<div>\n",
       "<style scoped>\n",
       "    .dataframe tbody tr th:only-of-type {\n",
       "        vertical-align: middle;\n",
       "    }\n",
       "\n",
       "    .dataframe tbody tr th {\n",
       "        vertical-align: top;\n",
       "    }\n",
       "\n",
       "    .dataframe thead th {\n",
       "        text-align: right;\n",
       "    }\n",
       "</style>\n",
       "<table border=\"1\" class=\"dataframe\">\n",
       "  <thead>\n",
       "    <tr style=\"text-align: right;\">\n",
       "      <th></th>\n",
       "      <th>Month</th>\n",
       "      <th>SilverPrice</th>\n",
       "      <th>GoldPrice</th>\n",
       "    </tr>\n",
       "  </thead>\n",
       "  <tbody>\n",
       "    <tr>\n",
       "      <th>0</th>\n",
       "      <td>Mar-97</td>\n",
       "      <td>186.48</td>\n",
       "      <td>12619.24</td>\n",
       "    </tr>\n",
       "    <tr>\n",
       "      <th>1</th>\n",
       "      <td>Apr-97</td>\n",
       "      <td>170.65</td>\n",
       "      <td>12338.59</td>\n",
       "    </tr>\n",
       "    <tr>\n",
       "      <th>2</th>\n",
       "      <td>May-97</td>\n",
       "      <td>170.44</td>\n",
       "      <td>12314.94</td>\n",
       "    </tr>\n",
       "    <tr>\n",
       "      <th>3</th>\n",
       "      <td>Jun-97</td>\n",
       "      <td>169.96</td>\n",
       "      <td>12202.78</td>\n",
       "    </tr>\n",
       "    <tr>\n",
       "      <th>4</th>\n",
       "      <td>Jul-97</td>\n",
       "      <td>155.80</td>\n",
       "      <td>11582.07</td>\n",
       "    </tr>\n",
       "  </tbody>\n",
       "</table>\n",
       "</div>"
      ],
      "text/plain": [
       "    Month  SilverPrice  GoldPrice\n",
       "0  Mar-97       186.48   12619.24\n",
       "1  Apr-97       170.65   12338.59\n",
       "2  May-97       170.44   12314.94\n",
       "3  Jun-97       169.96   12202.78\n",
       "4  Jul-97       155.80   11582.07"
      ]
     },
     "execution_count": 3,
     "metadata": {},
     "output_type": "execute_result"
    }
   ],
   "source": [
    "df.head()"
   ]
  },
  {
   "cell_type": "code",
   "execution_count": 4,
   "id": "6ed659b5",
   "metadata": {},
   "outputs": [
    {
     "name": "stderr",
     "output_type": "stream",
     "text": [
      "C:\\Users\\raghu\\AppData\\Local\\Temp\\ipykernel_15420\\1123802744.py:1: FutureWarning: The default value of numeric_only in DataFrame.corr is deprecated. In a future version, it will default to False. Select only valid columns or specify the value of numeric_only to silence this warning.\n",
      "  round(df.corr().loc['SilverPrice', 'GoldPrice'],2)\n"
     ]
    },
    {
     "data": {
      "text/plain": [
       "0.95"
      ]
     },
     "execution_count": 4,
     "metadata": {},
     "output_type": "execute_result"
    }
   ],
   "source": [
    "round(df.corr().loc['SilverPrice', 'GoldPrice'],2)"
   ]
  },
  {
   "cell_type": "code",
   "execution_count": 5,
   "id": "1fe11631",
   "metadata": {},
   "outputs": [
    {
     "data": {
      "text/plain": [
       "dtype('O')"
      ]
     },
     "execution_count": 5,
     "metadata": {},
     "output_type": "execute_result"
    }
   ],
   "source": [
    "df.Month.dtype"
   ]
  },
  {
   "cell_type": "code",
   "execution_count": 15,
   "id": "8fad12fa",
   "metadata": {},
   "outputs": [],
   "source": [
    "df['Year'] = pd.to_datetime(df['Month'], format='%b-%y').dt.year"
   ]
  },
  {
   "cell_type": "code",
   "execution_count": 16,
   "id": "a30bb779",
   "metadata": {},
   "outputs": [
    {
     "data": {
      "text/html": [
       "<div>\n",
       "<style scoped>\n",
       "    .dataframe tbody tr th:only-of-type {\n",
       "        vertical-align: middle;\n",
       "    }\n",
       "\n",
       "    .dataframe tbody tr th {\n",
       "        vertical-align: top;\n",
       "    }\n",
       "\n",
       "    .dataframe thead th {\n",
       "        text-align: right;\n",
       "    }\n",
       "</style>\n",
       "<table border=\"1\" class=\"dataframe\">\n",
       "  <thead>\n",
       "    <tr style=\"text-align: right;\">\n",
       "      <th></th>\n",
       "      <th>Month</th>\n",
       "      <th>SilverPrice</th>\n",
       "      <th>GoldPrice</th>\n",
       "      <th>Year</th>\n",
       "    </tr>\n",
       "  </thead>\n",
       "  <tbody>\n",
       "    <tr>\n",
       "      <th>0</th>\n",
       "      <td>Mar-97</td>\n",
       "      <td>186.48</td>\n",
       "      <td>12619.24</td>\n",
       "      <td>1997</td>\n",
       "    </tr>\n",
       "    <tr>\n",
       "      <th>1</th>\n",
       "      <td>Apr-97</td>\n",
       "      <td>170.65</td>\n",
       "      <td>12338.59</td>\n",
       "      <td>1997</td>\n",
       "    </tr>\n",
       "    <tr>\n",
       "      <th>2</th>\n",
       "      <td>May-97</td>\n",
       "      <td>170.44</td>\n",
       "      <td>12314.94</td>\n",
       "      <td>1997</td>\n",
       "    </tr>\n",
       "    <tr>\n",
       "      <th>3</th>\n",
       "      <td>Jun-97</td>\n",
       "      <td>169.96</td>\n",
       "      <td>12202.78</td>\n",
       "      <td>1997</td>\n",
       "    </tr>\n",
       "    <tr>\n",
       "      <th>4</th>\n",
       "      <td>Jul-97</td>\n",
       "      <td>155.80</td>\n",
       "      <td>11582.07</td>\n",
       "      <td>1997</td>\n",
       "    </tr>\n",
       "  </tbody>\n",
       "</table>\n",
       "</div>"
      ],
      "text/plain": [
       "    Month  SilverPrice  GoldPrice  Year\n",
       "0  Mar-97       186.48   12619.24  1997\n",
       "1  Apr-97       170.65   12338.59  1997\n",
       "2  May-97       170.44   12314.94  1997\n",
       "3  Jun-97       169.96   12202.78  1997\n",
       "4  Jul-97       155.80   11582.07  1997"
      ]
     },
     "execution_count": 16,
     "metadata": {},
     "output_type": "execute_result"
    }
   ],
   "source": [
    "df.head()"
   ]
  },
  {
   "cell_type": "code",
   "execution_count": 19,
   "id": "f3fc78b2",
   "metadata": {},
   "outputs": [
    {
     "name": "stderr",
     "output_type": "stream",
     "text": [
      "C:\\Users\\raghu\\AppData\\Local\\Temp\\ipykernel_18884\\3489536184.py:1: FutureWarning: The default value of numeric_only in DataFrame.corr is deprecated. In a future version, it will default to False. Select only valid columns or specify the value of numeric_only to silence this warning.\n",
      "  val = df[df['Year'] == 2008].corr()['SilverPrice']['GoldPrice']\n"
     ]
    },
    {
     "data": {
      "text/plain": [
       "0.01"
      ]
     },
     "execution_count": 19,
     "metadata": {},
     "output_type": "execute_result"
    }
   ],
   "source": [
    "val = df[df['Year'] == 2008].corr()['SilverPrice']['GoldPrice']\n",
    "round(val,2)"
   ]
  },
  {
   "cell_type": "code",
   "execution_count": 20,
   "id": "cc1bc02b",
   "metadata": {},
   "outputs": [
    {
     "data": {
      "text/plain": [
       "SilverPrice   -0.300294\n",
       "SilverPrice   -0.636606\n",
       "SilverPrice    0.269561\n",
       "SilverPrice    0.458854\n",
       "SilverPrice   -0.097849\n",
       "SilverPrice    0.426923\n",
       "SilverPrice    0.863672\n",
       "SilverPrice    0.697647\n",
       "SilverPrice    0.956490\n",
       "SilverPrice    0.857197\n",
       "SilverPrice    0.521385\n",
       "SilverPrice    0.009584\n",
       "SilverPrice    0.909367\n",
       "SilverPrice    0.888551\n",
       "SilverPrice    0.392636\n",
       "SilverPrice    0.695103\n",
       "SilverPrice    0.950427\n",
       "SilverPrice    0.908186\n",
       "SilverPrice    0.951250\n",
       "SilverPrice    0.887940\n",
       "SilverPrice    0.977475\n",
       "Name: GoldPrice, dtype: float64"
      ]
     },
     "execution_count": 20,
     "metadata": {},
     "output_type": "execute_result"
    }
   ],
   "source": [
    "df.groupby('Year')[['SilverPrice', 'GoldPrice']].corr().iloc[0::2,-1].reset_index(level=0, drop=True)"
   ]
  },
  {
   "cell_type": "code",
   "execution_count": null,
   "id": "0bf010b1",
   "metadata": {},
   "outputs": [],
   "source": []
  }
 ],
 "metadata": {
  "kernelspec": {
   "display_name": "Python 3 (ipykernel)",
   "language": "python",
   "name": "python3"
  },
  "language_info": {
   "codemirror_mode": {
    "name": "ipython",
    "version": 3
   },
   "file_extension": ".py",
   "mimetype": "text/x-python",
   "name": "python",
   "nbconvert_exporter": "python",
   "pygments_lexer": "ipython3",
   "version": "3.10.9"
  }
 },
 "nbformat": 4,
 "nbformat_minor": 5
}
