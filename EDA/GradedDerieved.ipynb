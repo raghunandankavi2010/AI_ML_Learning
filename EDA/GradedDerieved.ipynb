{
 "cells": [
  {
   "cell_type": "code",
   "execution_count": 117,
   "id": "b902a038",
   "metadata": {},
   "outputs": [],
   "source": [
    "import numpy as np\n",
    "import pandas as pd"
   ]
  },
  {
   "cell_type": "code",
   "execution_count": 118,
   "id": "a5eefc12",
   "metadata": {},
   "outputs": [
    {
     "data": {
      "text/html": [
       "<div>\n",
       "<style scoped>\n",
       "    .dataframe tbody tr th:only-of-type {\n",
       "        vertical-align: middle;\n",
       "    }\n",
       "\n",
       "    .dataframe tbody tr th {\n",
       "        vertical-align: top;\n",
       "    }\n",
       "\n",
       "    .dataframe thead th {\n",
       "        text-align: right;\n",
       "    }\n",
       "</style>\n",
       "<table border=\"1\" class=\"dataframe\">\n",
       "  <thead>\n",
       "    <tr style=\"text-align: right;\">\n",
       "      <th></th>\n",
       "      <th>submission</th>\n",
       "      <th>submit_time</th>\n",
       "    </tr>\n",
       "  </thead>\n",
       "  <tbody>\n",
       "    <tr>\n",
       "      <th>0</th>\n",
       "      <td>https://ckd.upgrad.com/UpGrad/73ba5189-94fd-44...</td>\n",
       "      <td>01/03/17-20:28:52</td>\n",
       "    </tr>\n",
       "    <tr>\n",
       "      <th>1</th>\n",
       "      <td>https://ckd.upgrad.com/UpGrad/185242ff-7508-4c...</td>\n",
       "      <td>01/03/17-20:18:21</td>\n",
       "    </tr>\n",
       "    <tr>\n",
       "      <th>2</th>\n",
       "      <td>https://ckd.upgrad.com/UpGrad/a353d129-c100-43...</td>\n",
       "      <td>01/03/17-22:37:08</td>\n",
       "    </tr>\n",
       "    <tr>\n",
       "      <th>3</th>\n",
       "      <td>https://ckd.upgrad.com/UpGrad/002fc912-faa1-49...</td>\n",
       "      <td>01/02/17-21:43:19</td>\n",
       "    </tr>\n",
       "    <tr>\n",
       "      <th>4</th>\n",
       "      <td>https://ckd.upgrad.com/UpGrad/25cbc4a4-6d49-4f...</td>\n",
       "      <td>01/03/17-15:27:49</td>\n",
       "    </tr>\n",
       "    <tr>\n",
       "      <th>5</th>\n",
       "      <td>https://ckd.upgrad.com/UpGrad/0ab308ab-2b3a-4c...</td>\n",
       "      <td>01/04/17-02:43:46</td>\n",
       "    </tr>\n",
       "    <tr>\n",
       "      <th>6</th>\n",
       "      <td>https://ckd.upgrad.com/UpGrad/ba2c249c-dac8-46...</td>\n",
       "      <td>01/03/17-23:41:25</td>\n",
       "    </tr>\n",
       "    <tr>\n",
       "      <th>7</th>\n",
       "      <td>https://ckd.upgrad.com/UpGrad/d8969806-6760-44...</td>\n",
       "      <td>01/09/17-23:49:09</td>\n",
       "    </tr>\n",
       "    <tr>\n",
       "      <th>8</th>\n",
       "      <td>https://ckd.upgrad.com/UpGrad/5ff1d0ab-816b-48...</td>\n",
       "      <td>12/30/16-14:14:17</td>\n",
       "    </tr>\n",
       "    <tr>\n",
       "      <th>9</th>\n",
       "      <td>https://ckd.upgrad.com/UpGrad/0d507851-d102-47...</td>\n",
       "      <td>01/03/17-21:18:04</td>\n",
       "    </tr>\n",
       "  </tbody>\n",
       "</table>\n",
       "</div>"
      ],
      "text/plain": [
       "                                          submission        submit_time\n",
       "0  https://ckd.upgrad.com/UpGrad/73ba5189-94fd-44...  01/03/17-20:28:52\n",
       "1  https://ckd.upgrad.com/UpGrad/185242ff-7508-4c...  01/03/17-20:18:21\n",
       "2  https://ckd.upgrad.com/UpGrad/a353d129-c100-43...  01/03/17-22:37:08\n",
       "3  https://ckd.upgrad.com/UpGrad/002fc912-faa1-49...  01/02/17-21:43:19\n",
       "4  https://ckd.upgrad.com/UpGrad/25cbc4a4-6d49-4f...  01/03/17-15:27:49\n",
       "5  https://ckd.upgrad.com/UpGrad/0ab308ab-2b3a-4c...  01/04/17-02:43:46\n",
       "6  https://ckd.upgrad.com/UpGrad/ba2c249c-dac8-46...  01/03/17-23:41:25\n",
       "7  https://ckd.upgrad.com/UpGrad/d8969806-6760-44...  01/09/17-23:49:09\n",
       "8  https://ckd.upgrad.com/UpGrad/5ff1d0ab-816b-48...  12/30/16-14:14:17\n",
       "9  https://ckd.upgrad.com/UpGrad/0d507851-d102-47...  01/03/17-21:18:04"
      ]
     },
     "execution_count": 118,
     "metadata": {},
     "output_type": "execute_result"
    }
   ],
   "source": [
    "df = pd.read_csv('grades.csv')\n",
    "df.head(10)"
   ]
  },
  {
   "cell_type": "code",
   "execution_count": 119,
   "id": "7fc18f6e",
   "metadata": {},
   "outputs": [
    {
     "data": {
      "text/html": [
       "<div>\n",
       "<style scoped>\n",
       "    .dataframe tbody tr th:only-of-type {\n",
       "        vertical-align: middle;\n",
       "    }\n",
       "\n",
       "    .dataframe tbody tr th {\n",
       "        vertical-align: top;\n",
       "    }\n",
       "\n",
       "    .dataframe thead th {\n",
       "        text-align: right;\n",
       "    }\n",
       "</style>\n",
       "<table border=\"1\" class=\"dataframe\">\n",
       "  <thead>\n",
       "    <tr style=\"text-align: right;\">\n",
       "      <th></th>\n",
       "      <th>submission</th>\n",
       "      <th>submit_time</th>\n",
       "      <th>hour_12</th>\n",
       "      <th>hour</th>\n",
       "      <th>year</th>\n",
       "      <th>month</th>\n",
       "      <th>day</th>\n",
       "      <th>second</th>\n",
       "    </tr>\n",
       "  </thead>\n",
       "  <tbody>\n",
       "    <tr>\n",
       "      <th>0</th>\n",
       "      <td>https://ckd.upgrad.com/UpGrad/73ba5189-94fd-44...</td>\n",
       "      <td>2017-01-03 20:28:52</td>\n",
       "      <td>08:28:52 PM</td>\n",
       "      <td>20</td>\n",
       "      <td>2017</td>\n",
       "      <td>1</td>\n",
       "      <td>3</td>\n",
       "      <td>52</td>\n",
       "    </tr>\n",
       "    <tr>\n",
       "      <th>1</th>\n",
       "      <td>https://ckd.upgrad.com/UpGrad/185242ff-7508-4c...</td>\n",
       "      <td>2017-01-03 20:18:21</td>\n",
       "      <td>08:18:21 PM</td>\n",
       "      <td>20</td>\n",
       "      <td>2017</td>\n",
       "      <td>1</td>\n",
       "      <td>3</td>\n",
       "      <td>21</td>\n",
       "    </tr>\n",
       "    <tr>\n",
       "      <th>2</th>\n",
       "      <td>https://ckd.upgrad.com/UpGrad/a353d129-c100-43...</td>\n",
       "      <td>2017-01-03 22:37:08</td>\n",
       "      <td>10:37:08 PM</td>\n",
       "      <td>22</td>\n",
       "      <td>2017</td>\n",
       "      <td>1</td>\n",
       "      <td>3</td>\n",
       "      <td>8</td>\n",
       "    </tr>\n",
       "    <tr>\n",
       "      <th>3</th>\n",
       "      <td>https://ckd.upgrad.com/UpGrad/002fc912-faa1-49...</td>\n",
       "      <td>2017-01-02 21:43:19</td>\n",
       "      <td>09:43:19 PM</td>\n",
       "      <td>21</td>\n",
       "      <td>2017</td>\n",
       "      <td>1</td>\n",
       "      <td>2</td>\n",
       "      <td>19</td>\n",
       "    </tr>\n",
       "    <tr>\n",
       "      <th>4</th>\n",
       "      <td>https://ckd.upgrad.com/UpGrad/25cbc4a4-6d49-4f...</td>\n",
       "      <td>2017-01-03 15:27:49</td>\n",
       "      <td>03:27:49 PM</td>\n",
       "      <td>15</td>\n",
       "      <td>2017</td>\n",
       "      <td>1</td>\n",
       "      <td>3</td>\n",
       "      <td>49</td>\n",
       "    </tr>\n",
       "  </tbody>\n",
       "</table>\n",
       "</div>"
      ],
      "text/plain": [
       "                                          submission         submit_time  \\\n",
       "0  https://ckd.upgrad.com/UpGrad/73ba5189-94fd-44... 2017-01-03 20:28:52   \n",
       "1  https://ckd.upgrad.com/UpGrad/185242ff-7508-4c... 2017-01-03 20:18:21   \n",
       "2  https://ckd.upgrad.com/UpGrad/a353d129-c100-43... 2017-01-03 22:37:08   \n",
       "3  https://ckd.upgrad.com/UpGrad/002fc912-faa1-49... 2017-01-02 21:43:19   \n",
       "4  https://ckd.upgrad.com/UpGrad/25cbc4a4-6d49-4f... 2017-01-03 15:27:49   \n",
       "\n",
       "       hour_12  hour  year  month  day  second  \n",
       "0  08:28:52 PM    20  2017      1    3      52  \n",
       "1  08:18:21 PM    20  2017      1    3      21  \n",
       "2  10:37:08 PM    22  2017      1    3       8  \n",
       "3  09:43:19 PM    21  2017      1    2      19  \n",
       "4  03:27:49 PM    15  2017      1    3      49  "
      ]
     },
     "execution_count": 119,
     "metadata": {},
     "output_type": "execute_result"
    }
   ],
   "source": [
    "df['submit_time'] = pd.to_datetime(df['submit_time'])\n",
    "\n",
    "# extract year, month, day, hour, minute and second as separate columns\n",
    "df['submit_time'] = pd.to_datetime(df['submit_time'], format='%m/%d/%y-%H:%M:%S')\n",
    "df['hour_12'] = df['submit_time'].dt.strftime('%I:%M:%S %p')\n",
    "df['hour'] = df['submit_time'].dt.hour\n",
    "df['year'] = df['submit_time'].dt.year\n",
    "df['month'] = df['submit_time'].dt.month\n",
    "df['day'] = df['submit_time'].dt.day\n",
    "df['second'] = df['submit_time'].dt.second\n",
    "\n",
    "df.head()"
   ]
  },
  {
   "cell_type": "code",
   "execution_count": 120,
   "id": "17a69d82",
   "metadata": {},
   "outputs": [
    {
     "data": {
      "text/plain": [
       "0    https://ckd.upgrad.com/UpGrad/73ba5189-94fd-44...\n",
       "1    https://ckd.upgrad.com/UpGrad/185242ff-7508-4c...\n",
       "2    https://ckd.upgrad.com/UpGrad/a353d129-c100-43...\n",
       "3    https://ckd.upgrad.com/UpGrad/002fc912-faa1-49...\n",
       "4    https://ckd.upgrad.com/UpGrad/25cbc4a4-6d49-4f...\n",
       "Name: submission, dtype: object"
      ]
     },
     "execution_count": 120,
     "metadata": {},
     "output_type": "execute_result"
    }
   ],
   "source": [
    "df['submission'].head()"
   ]
  },
  {
   "cell_type": "code",
   "execution_count": 121,
   "id": "88ed32cf",
   "metadata": {},
   "outputs": [],
   "source": [
    "df['submission_type'] = df['submission'].str.split('/').str[-1]"
   ]
  },
  {
   "cell_type": "code",
   "execution_count": 122,
   "id": "60ee7739",
   "metadata": {},
   "outputs": [
    {
     "data": {
      "text/html": [
       "<div>\n",
       "<style scoped>\n",
       "    .dataframe tbody tr th:only-of-type {\n",
       "        vertical-align: middle;\n",
       "    }\n",
       "\n",
       "    .dataframe tbody tr th {\n",
       "        vertical-align: top;\n",
       "    }\n",
       "\n",
       "    .dataframe thead th {\n",
       "        text-align: right;\n",
       "    }\n",
       "</style>\n",
       "<table border=\"1\" class=\"dataframe\">\n",
       "  <thead>\n",
       "    <tr style=\"text-align: right;\">\n",
       "      <th></th>\n",
       "      <th>submission</th>\n",
       "      <th>submit_time</th>\n",
       "      <th>hour_12</th>\n",
       "      <th>hour</th>\n",
       "      <th>year</th>\n",
       "      <th>month</th>\n",
       "      <th>day</th>\n",
       "      <th>second</th>\n",
       "      <th>submission_type</th>\n",
       "    </tr>\n",
       "  </thead>\n",
       "  <tbody>\n",
       "    <tr>\n",
       "      <th>0</th>\n",
       "      <td>https://ckd.upgrad.com/UpGrad/73ba5189-94fd-44...</td>\n",
       "      <td>2017-01-03 20:28:52</td>\n",
       "      <td>08:28:52 PM</td>\n",
       "      <td>20</td>\n",
       "      <td>2017</td>\n",
       "      <td>1</td>\n",
       "      <td>3</td>\n",
       "      <td>52</td>\n",
       "      <td>DDA1610095.zip</td>\n",
       "    </tr>\n",
       "    <tr>\n",
       "      <th>1</th>\n",
       "      <td>https://ckd.upgrad.com/UpGrad/185242ff-7508-4c...</td>\n",
       "      <td>2017-01-03 20:18:21</td>\n",
       "      <td>08:18:21 PM</td>\n",
       "      <td>20</td>\n",
       "      <td>2017</td>\n",
       "      <td>1</td>\n",
       "      <td>3</td>\n",
       "      <td>21</td>\n",
       "      <td>DDA1610288.zip</td>\n",
       "    </tr>\n",
       "    <tr>\n",
       "      <th>2</th>\n",
       "      <td>https://ckd.upgrad.com/UpGrad/a353d129-c100-43...</td>\n",
       "      <td>2017-01-03 22:37:08</td>\n",
       "      <td>10:37:08 PM</td>\n",
       "      <td>22</td>\n",
       "      <td>2017</td>\n",
       "      <td>1</td>\n",
       "      <td>3</td>\n",
       "      <td>8</td>\n",
       "      <td>DDA1610106.zip</td>\n",
       "    </tr>\n",
       "    <tr>\n",
       "      <th>3</th>\n",
       "      <td>https://ckd.upgrad.com/UpGrad/002fc912-faa1-49...</td>\n",
       "      <td>2017-01-02 21:43:19</td>\n",
       "      <td>09:43:19 PM</td>\n",
       "      <td>21</td>\n",
       "      <td>2017</td>\n",
       "      <td>1</td>\n",
       "      <td>2</td>\n",
       "      <td>19</td>\n",
       "      <td>DDA1610261.zip</td>\n",
       "    </tr>\n",
       "    <tr>\n",
       "      <th>4</th>\n",
       "      <td>https://ckd.upgrad.com/UpGrad/25cbc4a4-6d49-4f...</td>\n",
       "      <td>2017-01-03 15:27:49</td>\n",
       "      <td>03:27:49 PM</td>\n",
       "      <td>15</td>\n",
       "      <td>2017</td>\n",
       "      <td>1</td>\n",
       "      <td>3</td>\n",
       "      <td>49</td>\n",
       "      <td>DDA1610028.zip</td>\n",
       "    </tr>\n",
       "  </tbody>\n",
       "</table>\n",
       "</div>"
      ],
      "text/plain": [
       "                                          submission         submit_time  \\\n",
       "0  https://ckd.upgrad.com/UpGrad/73ba5189-94fd-44... 2017-01-03 20:28:52   \n",
       "1  https://ckd.upgrad.com/UpGrad/185242ff-7508-4c... 2017-01-03 20:18:21   \n",
       "2  https://ckd.upgrad.com/UpGrad/a353d129-c100-43... 2017-01-03 22:37:08   \n",
       "3  https://ckd.upgrad.com/UpGrad/002fc912-faa1-49... 2017-01-02 21:43:19   \n",
       "4  https://ckd.upgrad.com/UpGrad/25cbc4a4-6d49-4f... 2017-01-03 15:27:49   \n",
       "\n",
       "       hour_12  hour  year  month  day  second submission_type  \n",
       "0  08:28:52 PM    20  2017      1    3      52  DDA1610095.zip  \n",
       "1  08:18:21 PM    20  2017      1    3      21  DDA1610288.zip  \n",
       "2  10:37:08 PM    22  2017      1    3       8  DDA1610106.zip  \n",
       "3  09:43:19 PM    21  2017      1    2      19  DDA1610261.zip  \n",
       "4  03:27:49 PM    15  2017      1    3      49  DDA1610028.zip  "
      ]
     },
     "execution_count": 122,
     "metadata": {},
     "output_type": "execute_result"
    }
   ],
   "source": [
    "df.head()"
   ]
  },
  {
   "cell_type": "code",
   "execution_count": 123,
   "id": "2cf75ac9",
   "metadata": {},
   "outputs": [],
   "source": [
    "ending = ['zip']\n",
    "mapper = {True: 'Y', False: 'N'}\n",
    "df['zip_type'] = df['submission_type'].str[-3:].isin(ending).map(mapper)"
   ]
  },
  {
   "cell_type": "code",
   "execution_count": 124,
   "id": "0186683d",
   "metadata": {},
   "outputs": [
    {
     "data": {
      "text/html": [
       "<div>\n",
       "<style scoped>\n",
       "    .dataframe tbody tr th:only-of-type {\n",
       "        vertical-align: middle;\n",
       "    }\n",
       "\n",
       "    .dataframe tbody tr th {\n",
       "        vertical-align: top;\n",
       "    }\n",
       "\n",
       "    .dataframe thead th {\n",
       "        text-align: right;\n",
       "    }\n",
       "</style>\n",
       "<table border=\"1\" class=\"dataframe\">\n",
       "  <thead>\n",
       "    <tr style=\"text-align: right;\">\n",
       "      <th></th>\n",
       "      <th>submission</th>\n",
       "      <th>submit_time</th>\n",
       "      <th>hour_12</th>\n",
       "      <th>hour</th>\n",
       "      <th>year</th>\n",
       "      <th>month</th>\n",
       "      <th>day</th>\n",
       "      <th>second</th>\n",
       "      <th>submission_type</th>\n",
       "      <th>zip_type</th>\n",
       "    </tr>\n",
       "  </thead>\n",
       "  <tbody>\n",
       "    <tr>\n",
       "      <th>0</th>\n",
       "      <td>https://ckd.upgrad.com/UpGrad/73ba5189-94fd-44...</td>\n",
       "      <td>2017-01-03 20:28:52</td>\n",
       "      <td>08:28:52 PM</td>\n",
       "      <td>20</td>\n",
       "      <td>2017</td>\n",
       "      <td>1</td>\n",
       "      <td>3</td>\n",
       "      <td>52</td>\n",
       "      <td>DDA1610095.zip</td>\n",
       "      <td>Y</td>\n",
       "    </tr>\n",
       "    <tr>\n",
       "      <th>1</th>\n",
       "      <td>https://ckd.upgrad.com/UpGrad/185242ff-7508-4c...</td>\n",
       "      <td>2017-01-03 20:18:21</td>\n",
       "      <td>08:18:21 PM</td>\n",
       "      <td>20</td>\n",
       "      <td>2017</td>\n",
       "      <td>1</td>\n",
       "      <td>3</td>\n",
       "      <td>21</td>\n",
       "      <td>DDA1610288.zip</td>\n",
       "      <td>Y</td>\n",
       "    </tr>\n",
       "    <tr>\n",
       "      <th>2</th>\n",
       "      <td>https://ckd.upgrad.com/UpGrad/a353d129-c100-43...</td>\n",
       "      <td>2017-01-03 22:37:08</td>\n",
       "      <td>10:37:08 PM</td>\n",
       "      <td>22</td>\n",
       "      <td>2017</td>\n",
       "      <td>1</td>\n",
       "      <td>3</td>\n",
       "      <td>8</td>\n",
       "      <td>DDA1610106.zip</td>\n",
       "      <td>Y</td>\n",
       "    </tr>\n",
       "    <tr>\n",
       "      <th>3</th>\n",
       "      <td>https://ckd.upgrad.com/UpGrad/002fc912-faa1-49...</td>\n",
       "      <td>2017-01-02 21:43:19</td>\n",
       "      <td>09:43:19 PM</td>\n",
       "      <td>21</td>\n",
       "      <td>2017</td>\n",
       "      <td>1</td>\n",
       "      <td>2</td>\n",
       "      <td>19</td>\n",
       "      <td>DDA1610261.zip</td>\n",
       "      <td>Y</td>\n",
       "    </tr>\n",
       "    <tr>\n",
       "      <th>4</th>\n",
       "      <td>https://ckd.upgrad.com/UpGrad/25cbc4a4-6d49-4f...</td>\n",
       "      <td>2017-01-03 15:27:49</td>\n",
       "      <td>03:27:49 PM</td>\n",
       "      <td>15</td>\n",
       "      <td>2017</td>\n",
       "      <td>1</td>\n",
       "      <td>3</td>\n",
       "      <td>49</td>\n",
       "      <td>DDA1610028.zip</td>\n",
       "      <td>Y</td>\n",
       "    </tr>\n",
       "  </tbody>\n",
       "</table>\n",
       "</div>"
      ],
      "text/plain": [
       "                                          submission         submit_time  \\\n",
       "0  https://ckd.upgrad.com/UpGrad/73ba5189-94fd-44... 2017-01-03 20:28:52   \n",
       "1  https://ckd.upgrad.com/UpGrad/185242ff-7508-4c... 2017-01-03 20:18:21   \n",
       "2  https://ckd.upgrad.com/UpGrad/a353d129-c100-43... 2017-01-03 22:37:08   \n",
       "3  https://ckd.upgrad.com/UpGrad/002fc912-faa1-49... 2017-01-02 21:43:19   \n",
       "4  https://ckd.upgrad.com/UpGrad/25cbc4a4-6d49-4f... 2017-01-03 15:27:49   \n",
       "\n",
       "       hour_12  hour  year  month  day  second submission_type zip_type  \n",
       "0  08:28:52 PM    20  2017      1    3      52  DDA1610095.zip        Y  \n",
       "1  08:18:21 PM    20  2017      1    3      21  DDA1610288.zip        Y  \n",
       "2  10:37:08 PM    22  2017      1    3       8  DDA1610106.zip        Y  \n",
       "3  09:43:19 PM    21  2017      1    2      19  DDA1610261.zip        Y  \n",
       "4  03:27:49 PM    15  2017      1    3      49  DDA1610028.zip        Y  "
      ]
     },
     "execution_count": 124,
     "metadata": {},
     "output_type": "execute_result"
    }
   ],
   "source": [
    "df.head()"
   ]
  },
  {
   "cell_type": "code",
   "execution_count": 125,
   "id": "26cb6a64",
   "metadata": {},
   "outputs": [
    {
     "data": {
      "text/html": [
       "<div>\n",
       "<style scoped>\n",
       "    .dataframe tbody tr th:only-of-type {\n",
       "        vertical-align: middle;\n",
       "    }\n",
       "\n",
       "    .dataframe tbody tr th {\n",
       "        vertical-align: top;\n",
       "    }\n",
       "\n",
       "    .dataframe thead th {\n",
       "        text-align: right;\n",
       "    }\n",
       "</style>\n",
       "<table border=\"1\" class=\"dataframe\">\n",
       "  <thead>\n",
       "    <tr style=\"text-align: right;\">\n",
       "      <th></th>\n",
       "      <th>submission</th>\n",
       "      <th>submit_time</th>\n",
       "      <th>hour_12</th>\n",
       "      <th>hour</th>\n",
       "      <th>year</th>\n",
       "      <th>month</th>\n",
       "      <th>day</th>\n",
       "      <th>second</th>\n",
       "      <th>submission_type</th>\n",
       "      <th>zip_type</th>\n",
       "    </tr>\n",
       "  </thead>\n",
       "  <tbody>\n",
       "    <tr>\n",
       "      <th>193</th>\n",
       "      <td>https://ckd.upgrad.com/UpGrad/ba485323-bba6-4b...</td>\n",
       "      <td>2017-01-03 22:43:12</td>\n",
       "      <td>10:43:12 PM</td>\n",
       "      <td>22</td>\n",
       "      <td>2017</td>\n",
       "      <td>1</td>\n",
       "      <td>3</td>\n",
       "      <td>12</td>\n",
       "      <td>DDA1610228.zip</td>\n",
       "      <td>Y</td>\n",
       "    </tr>\n",
       "    <tr>\n",
       "      <th>194</th>\n",
       "      <td>https://ckd.upgrad.com/UpGrad/a65694d0-339b-44...</td>\n",
       "      <td>2017-01-09 23:59:34</td>\n",
       "      <td>11:59:34 PM</td>\n",
       "      <td>23</td>\n",
       "      <td>2017</td>\n",
       "      <td>1</td>\n",
       "      <td>9</td>\n",
       "      <td>34</td>\n",
       "      <td>DDA1610200.zip</td>\n",
       "      <td>Y</td>\n",
       "    </tr>\n",
       "    <tr>\n",
       "      <th>195</th>\n",
       "      <td>https://ckd.upgrad.com/UpGrad/c3876ddf-2b2f-4a...</td>\n",
       "      <td>2016-12-19 21:44:13</td>\n",
       "      <td>09:44:13 PM</td>\n",
       "      <td>21</td>\n",
       "      <td>2016</td>\n",
       "      <td>12</td>\n",
       "      <td>19</td>\n",
       "      <td>13</td>\n",
       "      <td>DDA1610183.zip</td>\n",
       "      <td>Y</td>\n",
       "    </tr>\n",
       "    <tr>\n",
       "      <th>196</th>\n",
       "      <td>https://ckd.upgrad.com/UpGrad/2b9732ad-0985-4a...</td>\n",
       "      <td>2017-01-09 23:23:06</td>\n",
       "      <td>11:23:06 PM</td>\n",
       "      <td>23</td>\n",
       "      <td>2017</td>\n",
       "      <td>1</td>\n",
       "      <td>9</td>\n",
       "      <td>6</td>\n",
       "      <td>DDA1610013.R</td>\n",
       "      <td>N</td>\n",
       "    </tr>\n",
       "    <tr>\n",
       "      <th>197</th>\n",
       "      <td>https://ckd.upgrad.com/UpGrad/21da378c-75a4-4a...</td>\n",
       "      <td>2017-01-03 22:32:38</td>\n",
       "      <td>10:32:38 PM</td>\n",
       "      <td>22</td>\n",
       "      <td>2017</td>\n",
       "      <td>1</td>\n",
       "      <td>3</td>\n",
       "      <td>38</td>\n",
       "      <td>DDA1610048.zip</td>\n",
       "      <td>Y</td>\n",
       "    </tr>\n",
       "  </tbody>\n",
       "</table>\n",
       "</div>"
      ],
      "text/plain": [
       "                                            submission         submit_time  \\\n",
       "193  https://ckd.upgrad.com/UpGrad/ba485323-bba6-4b... 2017-01-03 22:43:12   \n",
       "194  https://ckd.upgrad.com/UpGrad/a65694d0-339b-44... 2017-01-09 23:59:34   \n",
       "195  https://ckd.upgrad.com/UpGrad/c3876ddf-2b2f-4a... 2016-12-19 21:44:13   \n",
       "196  https://ckd.upgrad.com/UpGrad/2b9732ad-0985-4a... 2017-01-09 23:23:06   \n",
       "197  https://ckd.upgrad.com/UpGrad/21da378c-75a4-4a... 2017-01-03 22:32:38   \n",
       "\n",
       "         hour_12  hour  year  month  day  second submission_type zip_type  \n",
       "193  10:43:12 PM    22  2017      1    3      12  DDA1610228.zip        Y  \n",
       "194  11:59:34 PM    23  2017      1    9      34  DDA1610200.zip        Y  \n",
       "195  09:44:13 PM    21  2016     12   19      13  DDA1610183.zip        Y  \n",
       "196  11:23:06 PM    23  2017      1    9       6    DDA1610013.R        N  \n",
       "197  10:32:38 PM    22  2017      1    3      38  DDA1610048.zip        Y  "
      ]
     },
     "execution_count": 125,
     "metadata": {},
     "output_type": "execute_result"
    }
   ],
   "source": [
    "df.tail()"
   ]
  },
  {
   "cell_type": "code",
   "execution_count": 126,
   "id": "65347c1b",
   "metadata": {},
   "outputs": [
    {
     "data": {
      "text/plain": [
       "95.45454545454545"
      ]
     },
     "execution_count": 126,
     "metadata": {},
     "output_type": "execute_result"
    }
   ],
   "source": [
    "zip_count = df[df['zip_type'] == 'Y'].shape[0]\n",
    "total_count = df.shape[0]\n",
    "percentage = (zip_count / total_count) * 100\n",
    "percentage"
   ]
  },
  {
   "cell_type": "code",
   "execution_count": 127,
   "id": "20ba95d4",
   "metadata": {},
   "outputs": [
    {
     "data": {
      "text/plain": [
       "Index(['submission', 'submit_time', 'hour_12', 'hour', 'year', 'month', 'day',\n",
       "       'second', 'submission_type', 'zip_type'],\n",
       "      dtype='object')"
      ]
     },
     "execution_count": 127,
     "metadata": {},
     "output_type": "execute_result"
    }
   ],
   "source": [
    "df.columns"
   ]
  },
  {
   "cell_type": "code",
   "execution_count": 128,
   "id": "5696db65",
   "metadata": {},
   "outputs": [
    {
     "data": {
      "text/plain": [
       "dtype('O')"
      ]
     },
     "execution_count": 128,
     "metadata": {},
     "output_type": "execute_result"
    }
   ],
   "source": [
    "df.hour_12.dtype"
   ]
  },
  {
   "cell_type": "code",
   "execution_count": 129,
   "id": "3aa9dfb7",
   "metadata": {},
   "outputs": [],
   "source": [
    "df['submit_time'] = pd.to_datetime(df['submit_time'], format='%I:%M:%S %p')"
   ]
  },
  {
   "cell_type": "code",
   "execution_count": 130,
   "id": "f0c2d2fa",
   "metadata": {},
   "outputs": [
    {
     "data": {
      "text/html": [
       "<div>\n",
       "<style scoped>\n",
       "    .dataframe tbody tr th:only-of-type {\n",
       "        vertical-align: middle;\n",
       "    }\n",
       "\n",
       "    .dataframe tbody tr th {\n",
       "        vertical-align: top;\n",
       "    }\n",
       "\n",
       "    .dataframe thead th {\n",
       "        text-align: right;\n",
       "    }\n",
       "</style>\n",
       "<table border=\"1\" class=\"dataframe\">\n",
       "  <thead>\n",
       "    <tr style=\"text-align: right;\">\n",
       "      <th></th>\n",
       "      <th>submission</th>\n",
       "      <th>submit_time</th>\n",
       "      <th>hour_12</th>\n",
       "      <th>hour</th>\n",
       "      <th>year</th>\n",
       "      <th>month</th>\n",
       "      <th>day</th>\n",
       "      <th>second</th>\n",
       "      <th>submission_type</th>\n",
       "      <th>zip_type</th>\n",
       "    </tr>\n",
       "  </thead>\n",
       "  <tbody>\n",
       "    <tr>\n",
       "      <th>0</th>\n",
       "      <td>https://ckd.upgrad.com/UpGrad/73ba5189-94fd-44...</td>\n",
       "      <td>2017-01-03 20:28:52</td>\n",
       "      <td>08:28:52 PM</td>\n",
       "      <td>20</td>\n",
       "      <td>2017</td>\n",
       "      <td>1</td>\n",
       "      <td>3</td>\n",
       "      <td>52</td>\n",
       "      <td>DDA1610095.zip</td>\n",
       "      <td>Y</td>\n",
       "    </tr>\n",
       "    <tr>\n",
       "      <th>1</th>\n",
       "      <td>https://ckd.upgrad.com/UpGrad/185242ff-7508-4c...</td>\n",
       "      <td>2017-01-03 20:18:21</td>\n",
       "      <td>08:18:21 PM</td>\n",
       "      <td>20</td>\n",
       "      <td>2017</td>\n",
       "      <td>1</td>\n",
       "      <td>3</td>\n",
       "      <td>21</td>\n",
       "      <td>DDA1610288.zip</td>\n",
       "      <td>Y</td>\n",
       "    </tr>\n",
       "    <tr>\n",
       "      <th>2</th>\n",
       "      <td>https://ckd.upgrad.com/UpGrad/a353d129-c100-43...</td>\n",
       "      <td>2017-01-03 22:37:08</td>\n",
       "      <td>10:37:08 PM</td>\n",
       "      <td>22</td>\n",
       "      <td>2017</td>\n",
       "      <td>1</td>\n",
       "      <td>3</td>\n",
       "      <td>8</td>\n",
       "      <td>DDA1610106.zip</td>\n",
       "      <td>Y</td>\n",
       "    </tr>\n",
       "    <tr>\n",
       "      <th>3</th>\n",
       "      <td>https://ckd.upgrad.com/UpGrad/002fc912-faa1-49...</td>\n",
       "      <td>2017-01-02 21:43:19</td>\n",
       "      <td>09:43:19 PM</td>\n",
       "      <td>21</td>\n",
       "      <td>2017</td>\n",
       "      <td>1</td>\n",
       "      <td>2</td>\n",
       "      <td>19</td>\n",
       "      <td>DDA1610261.zip</td>\n",
       "      <td>Y</td>\n",
       "    </tr>\n",
       "    <tr>\n",
       "      <th>4</th>\n",
       "      <td>https://ckd.upgrad.com/UpGrad/25cbc4a4-6d49-4f...</td>\n",
       "      <td>2017-01-03 15:27:49</td>\n",
       "      <td>03:27:49 PM</td>\n",
       "      <td>15</td>\n",
       "      <td>2017</td>\n",
       "      <td>1</td>\n",
       "      <td>3</td>\n",
       "      <td>49</td>\n",
       "      <td>DDA1610028.zip</td>\n",
       "      <td>Y</td>\n",
       "    </tr>\n",
       "  </tbody>\n",
       "</table>\n",
       "</div>"
      ],
      "text/plain": [
       "                                          submission         submit_time  \\\n",
       "0  https://ckd.upgrad.com/UpGrad/73ba5189-94fd-44... 2017-01-03 20:28:52   \n",
       "1  https://ckd.upgrad.com/UpGrad/185242ff-7508-4c... 2017-01-03 20:18:21   \n",
       "2  https://ckd.upgrad.com/UpGrad/a353d129-c100-43... 2017-01-03 22:37:08   \n",
       "3  https://ckd.upgrad.com/UpGrad/002fc912-faa1-49... 2017-01-02 21:43:19   \n",
       "4  https://ckd.upgrad.com/UpGrad/25cbc4a4-6d49-4f... 2017-01-03 15:27:49   \n",
       "\n",
       "       hour_12  hour  year  month  day  second submission_type zip_type  \n",
       "0  08:28:52 PM    20  2017      1    3      52  DDA1610095.zip        Y  \n",
       "1  08:18:21 PM    20  2017      1    3      21  DDA1610288.zip        Y  \n",
       "2  10:37:08 PM    22  2017      1    3       8  DDA1610106.zip        Y  \n",
       "3  09:43:19 PM    21  2017      1    2      19  DDA1610261.zip        Y  \n",
       "4  03:27:49 PM    15  2017      1    3      49  DDA1610028.zip        Y  "
      ]
     },
     "execution_count": 130,
     "metadata": {},
     "output_type": "execute_result"
    }
   ],
   "source": [
    "df.head()"
   ]
  },
  {
   "cell_type": "code",
   "execution_count": 131,
   "id": "9120f847",
   "metadata": {},
   "outputs": [
    {
     "data": {
      "text/plain": [
       "(44, 10)"
      ]
     },
     "execution_count": 131,
     "metadata": {},
     "output_type": "execute_result"
    }
   ],
   "source": [
    "filtered_df = df[df['submit_time'] > pd.to_datetime('Jan 3, 2017 - 11:59:59 PM', format='%b %d, %Y - %I:%M:%S %p')]\n",
    "filtered_df.shape"
   ]
  },
  {
   "cell_type": "markdown",
   "id": "63b01101",
   "metadata": {},
   "source": [
    "2017-01-04 312\n",
    "\n",
    "2017-01-09 533\n",
    "\n",
    "2017-01-02 504\n",
    "\n",
    "2017-01-03 3584"
   ]
  },
  {
   "cell_type": "code",
   "execution_count": 133,
   "id": "f0bcc602",
   "metadata": {},
   "outputs": [
    {
     "name": "stderr",
     "output_type": "stream",
     "text": [
      "C:\\Users\\raghu\\AppData\\Local\\Temp\\ipykernel_20340\\1617526984.py:1: FutureWarning: The default value of numeric_only in DataFrameGroupBy.sum is deprecated. In a future version, numeric_only will default to False. Either specify numeric_only or select only columns which should be valid for the function.\n",
      "  grouped_data = df.groupby([\"year\",\"month\",\"day\"]).sum()\n"
     ]
    },
    {
     "data": {
      "text/plain": [
       "<bound method DataFrame.sort_values of                 hour  second\n",
       "year month day              \n",
       "2016 11    19     15      52\n",
       "     12    19     21      13\n",
       "           21     16       7\n",
       "           28     34     109\n",
       "           29     23      91\n",
       "           30     93     172\n",
       "           31      0      21\n",
       "2017 1     1      99     102\n",
       "           2     258     504\n",
       "           3    2395    3584\n",
       "           4      19     312\n",
       "           6      20      29\n",
       "           7      33      87\n",
       "           8      66      75\n",
       "           9     419     533\n",
       "           10      2     118\n",
       "           17     13      23\n",
       "     2     3       4      28>"
      ]
     },
     "execution_count": 133,
     "metadata": {},
     "output_type": "execute_result"
    }
   ],
   "source": [
    "grouped_data = df.groupby([\"year\",\"month\",\"day\"]).sum()\n",
    "grouped_data.sort_values"
   ]
  },
  {
   "cell_type": "code",
   "execution_count": 137,
   "id": "cee84395",
   "metadata": {},
   "outputs": [
    {
     "data": {
      "text/plain": [
       "23"
      ]
     },
     "execution_count": 137,
     "metadata": {},
     "output_type": "execute_result"
    }
   ],
   "source": [
    "hour_counts = df['hour'].value_counts()\n",
    "\n",
    "# Determine which hour has the highest count\n",
    "most_common_hour = hour_counts.idxmax()\n",
    "most_common_hour"
   ]
  },
  {
   "cell_type": "markdown",
   "id": "71ec3eed",
   "metadata": {},
   "source": [
    "If you plot the distribution of submissions by the hour, what can you observe?\n",
    "\n",
    "\n",
    "Most people submit the assignment in the late evening (i.e. after 8 PM)\n",
    "\n",
    "Most people submit the assignment in the afternoon (i.e. 12 noon - 4 PM)\n",
    "\n",
    "Most people submit the assignment in the morning (i.e. 8 AM -11 AM)\n",
    "\n",
    "Submissions are distributed evenly across hours of the day"
   ]
  },
  {
   "cell_type": "code",
   "execution_count": 142,
   "id": "6d591e3e",
   "metadata": {},
   "outputs": [
    {
     "name": "stderr",
     "output_type": "stream",
     "text": [
      "C:\\Users\\raghu\\AppData\\Local\\Temp\\ipykernel_20340\\1777019426.py:3: UserWarning: \n",
      "\n",
      "`distplot` is a deprecated function and will be removed in seaborn v0.14.0.\n",
      "\n",
      "Please adapt your code to use either `displot` (a figure-level function with\n",
      "similar flexibility) or `histplot` (an axes-level function for histograms).\n",
      "\n",
      "For a guide to updating your code to use the new functions, please see\n",
      "https://gist.github.com/mwaskom/de44147ed2974457ad6372750bbe5751\n",
      "\n",
      "  sns.distplot(df['hour'])\n"
     ]
    },
    {
     "data": {
      "image/png": "[encoded data removed]",
      "text/plain": [
       "<Figure size 640x480 with 1 Axes>"
      ]
     },
     "metadata": {},
     "output_type": "display_data"
    }
   ],
   "source": [
    "import seaborn as sns\n",
    "import matplotlib.pyplot as plt\n",
    "sns.distplot(df['hour'])\n",
    "plt.show()\n"
   ]
  },
  {
   "cell_type": "code",
   "execution_count": null,
   "id": "69e12ccb",
   "metadata": {},
   "outputs": [],
   "source": []
  }
 ],
 "metadata": {
  "kernelspec": {
   "display_name": "Python 3 (ipykernel)",
   "language": "python",
   "name": "python3"
  },
  "language_info": {
   "codemirror_mode": {
    "name": "ipython",
    "version": 3
   },
   "file_extension": ".py",
   "mimetype": "text/x-python",
   "name": "python",
   "nbconvert_exporter": "python",
   "pygments_lexer": "ipython3",
   "version": "3.10.9"
  }
 },
 "nbformat": 4,
 "nbformat_minor": 5
}
